{
  "nbformat": 4,
  "nbformat_minor": 0,
  "metadata": {
    "kernelspec": {
      "display_name": "Python 3",
      "language": "python",
      "name": "python3"
    },
    "language_info": {
      "codemirror_mode": {
        "name": "ipython",
        "version": 3
      },
      "file_extension": ".py",
      "mimetype": "text/x-python",
      "name": "python",
      "nbconvert_exporter": "python",
      "pygments_lexer": "ipython3",
      "version": "3.8.5"
    },
    "colab": {
      "name": "楊曉林-Week11-作業.ipynb",
      "provenance": [],
      "include_colab_link": true
    }
  },
  "cells": [
    {
      "cell_type": "markdown",
      "metadata": {
        "id": "view-in-github",
        "colab_type": "text"
      },
      "source": [
        "<a href=\"https://colab.research.google.com/github/A109010178/computational-thinking-and-program-design/blob/main/%E6%A5%8A%E6%9B%89%E6%9E%97_Week11_%E4%BD%9C%E6%A5%AD.ipynb\" target=\"_parent\"><img src=\"https://colab.research.google.com/assets/colab-badge.svg\" alt=\"Open In Colab\"/></a>"
      ]
    },
    {
      "cell_type": "markdown",
      "metadata": {
        "id": "mi-TxysIzxpb"
      },
      "source": [
        "# 基本程式設計(應用篇)"
      ]
    },
    {
      "cell_type": "markdown",
      "metadata": {
        "id": "52bUFNJBzxpj"
      },
      "source": [
        "### 4-2 運算思維四個基石"
      ]
    },
    {
      "cell_type": "markdown",
      "metadata": {
        "id": "HvnH7OTtzxpj"
      },
      "source": [
        "#### 4-2-4  問題拆解 - 打造你的聊天機器人"
      ]
    },
    {
      "cell_type": "markdown",
      "metadata": {
        "id": "qkdCchgezxpk"
      },
      "source": [
        "「哈囉，大家好。我叫Zyxo64，是一個聊天機器人。\n",
        "\n",
        "在嗜好與興趣方面，我很喜歡美食，也喜歡養動物。\n",
        "\n",
        "很高興有機會來到世新大學，請大家多多指教。\n",
        "\n",
        "嗨！妳好，請問大名？：Francis。\n",
        "\n",
        "Francis，很高興認識你。"
      ]
    },
    {
      "cell_type": "code",
      "metadata": {
        "id": "3Ut4aluMzxpk",
        "colab": {
          "base_uri": "https://localhost:8080/"
        },
        "outputId": "70118882-8491-4af2-83df-4ecc84fb0b17"
      },
      "source": [
        "# 1.聊天機器人自我介紹\n",
        "print(\"哈囉，大家好。我叫森林藍羽，是一個聊天機械人。\")\n",
        "hobby= \"我很愛去旅行，也愛跟大家分享各國風影景。今天很高興有機會來到世新大學,請大家多多指教。\"\n",
        "print(hobby)\n",
        "# 2. 打招呼，取得對方名字\n"
      ],
      "execution_count": 1,
      "outputs": [
        {
          "output_type": "stream",
          "text": [
            "哈囉，大家好。我叫森林藍羽，是一個聊天機械人。\n",
            "我很愛去旅行，也愛跟大家分享各國風影景。今天很高興有機會來到世新大學,請大家多多指教。\n"
          ],
          "name": "stdout"
        }
      ]
    },
    {
      "cell_type": "markdown",
      "metadata": {
        "id": "IWtBDC_Nzxpl"
      },
      "source": [
        "抱歉，請問一下今年是西元2021年，那是民國幾年呢？：*110*。\n",
        "\n",
        "對！沒錯，謝謝妳！\n",
        "\n",
        "**Francis**，猜猜看我今年幾歲？ ：**18**。\n",
        "\n",
        "哇！你好聰明，我今年的確*18*。\n",
        "\n",
        "再82年我就100歲了。\n",
        "\n",
        "那時候是西元 2103年，也就是民國192年囉！"
      ]
    },
    {
      "cell_type": "code",
      "metadata": {
        "id": "pxR84AfRzxpl",
        "colab": {
          "base_uri": "https://localhost:8080/"
        },
        "outputId": "479cc430-f1bf-4333-e5f2-b75380d66877"
      },
      "source": [
        "# 3. 數學運算\n",
        "## 3-1 從使用者取得今年年份\n",
        "year= input(\"請問今年是西元2021年，那是民國幾年呢？\")\n",
        "print(\"對！沒錯，謝謝你！\")\n",
        "## 3-2 請使用者猜年齡\n",
        "age=input(\"猜猜我今年幾歲？：\")\n",
        "print(F\"哇！你好聰明，今年我真的確{age}\")\n",
        "## 3-3 計算聊天機器人滿100歲的年份\n",
        "year=int(year)\n",
        "age=int(age)\n",
        "print(f\"再{100-age}年我就100歲。\")\n",
        "time=year+1911+(100-age)\n",
        "print(f\"那時候是西元{time}年，也就是民國{time-1911}年。\")"
      ],
      "execution_count": 2,
      "outputs": [
        {
          "output_type": "stream",
          "text": [
            "請問今年是西元2021年，那是民國幾年呢？110\n",
            "對！沒錯，謝謝你！\n",
            "猜猜我今年幾歲？：0\n",
            "哇！你好聰明，今年我真的確0\n",
            "再100年我就100歲。\n",
            "那時候是西元2121年，也就是民國210年。\n"
          ],
          "name": "stdout"
        }
      ]
    },
    {
      "cell_type": "markdown",
      "metadata": {
        "id": "ntwGeeorzxpm"
      },
      "source": [
        "我喜歡吃巧克力，也喜歡嘗試各種新食物。\n",
        "\n",
        "你呢？你最喜歡的食物是什麼？**:披薩**。\n",
        "\n",
        "我也喜歡 *披薩*。\n",
        "\n",
        "你多久吃一次 *披薩*？**：每天**。\n",
        "\n",
        "真有趣。不知道這樣對健康好不好。"
      ]
    },
    {
      "cell_type": "code",
      "metadata": {
        "id": "cF65AYx3zxpm",
        "colab": {
          "base_uri": "https://localhost:8080/"
        },
        "outputId": "b59b7b68-0ab2-4005-9e04-df26e53c4bf7"
      },
      "source": [
        "# 4 興趣\n",
        "## 4-1 食物話題\n",
        "\n",
        "print(\"我喜歡吃巧克力，也喜歡嘗試各種新食物。\")\n",
        "food=input(\"你呢？你最喜歡的食物是什麼？\")\n",
        "print(f\"我也喜歡{food}\")\n",
        "howoften=input(\"你多久吃一次\"+food+\"?\")\n",
        "print(\"真有趣。不知道這樣對健康好不好。\")\n"
      ],
      "execution_count": 7,
      "outputs": [
        {
          "output_type": "stream",
          "text": [
            "我喜歡吃巧克力，也喜歡嘗試各種新食物。\n",
            "你呢？你最喜歡的食物是什麼？d\n",
            "我也喜歡d\n",
            "你多久吃一次d?d\n",
            "真有趣。不知道這樣對健康好不好。\n"
          ],
          "name": "stdout"
        }
      ]
    },
    {
      "cell_type": "markdown",
      "metadata": {
        "id": "X9tMnN1Uzxpm"
      },
      "source": [
        "我最喜歡的動物是長頸鹿。你呢？ **：烏龜**。\n",
        "\n",
        "我不喜歡*烏龜*！\n",
        "\n",
        "不知道 *烏龜* 喜不喜歡吃 *披薩*？"
      ]
    },
    {
      "cell_type": "code",
      "metadata": {
        "id": "jAZEapJbzxpn",
        "colab": {
          "base_uri": "https://localhost:8080/"
        },
        "outputId": "5d152b54-058b-450b-874d-bc16a41ed66f"
      },
      "source": [
        "# 4 興趣\n",
        "## 4-2 動物話題\n",
        "print(\"我最喜歡的動物是長頸鹿。\")\n",
        "animals=input(\"你呢？what animals do you like?\")\n",
        "print(f\"我不喜歡{animals}!\")\n",
        "whatdotheylike=input(\"不知道 {animals}喜不喜歡吃{food}+\"?\")\n"
      ],
      "execution_count": 3,
      "outputs": [
        {
          "output_type": "stream",
          "text": [
            "我最喜歡的動物是長頸鹿。\n",
            "你呢？what animals do you like?a\n",
            "我不喜歡a!\n",
            "不知道 {animals}喜不喜歡吃{food}a\n"
          ],
          "name": "stdout"
        }
      ]
    },
    {
      "cell_type": "markdown",
      "metadata": {
        "id": "snJRrso9zxpn"
      },
      "source": [
        "你今天的心情如何？ **：很開心**。\n",
        "\n",
        "可以告訴我你 *開心* 的原因嗎？**因為週末了！** \n",
        "\n",
        "祝你週末愉快！\n",
        "\n",
        "我喜歡跟你聊天，現在有點累了，改天再聊吧！！\n",
        "\n",
        "再見 *Francis*！"
      ]
    },
    {
      "cell_type": "code",
      "metadata": {
        "id": "OLQ0kiG2zxpn"
      },
      "source": [
        "# 5. 關於心情的對話\n",
        "mood+input(\"你今天的心情如何？\")\n",
        "print(f\"可以告訴我你{mood}的原因嗎？因為週末了！\")\n",
        "reason=input(\"why?\")\n",
        "print(\"祝你週末愉快！\")\n"
      ],
      "execution_count": null,
      "outputs": []
    },
    {
      "cell_type": "markdown",
      "metadata": {
        "id": "JxHVhQMvzxpo"
      },
      "source": [
        "我喜歡跟你聊天，現在有點累了，改天再聊吧！！\n",
        "\n",
        "再見 *Francis*！"
      ]
    },
    {
      "cell_type": "code",
      "metadata": {
        "id": "JUS5vf5Qzxpo",
        "colab": {
          "base_uri": "https://localhost:8080/",
          "height": 215
        },
        "outputId": "07782a9c-013d-40ce-b162-9b42c13bffe1"
      },
      "source": [
        "# 6. 道別\n",
        "print(\"我喜歡跟你聊天，現在有點累了，改天再聊吧！！\")\n",
        "print(f\"再見{name}\")"
      ],
      "execution_count": 8,
      "outputs": [
        {
          "output_type": "stream",
          "text": [
            "我喜歡跟你聊天，現在有點累了，改天再聊吧！！\n"
          ],
          "name": "stdout"
        },
        {
          "output_type": "error",
          "ename": "NameError",
          "evalue": "ignored",
          "traceback": [
            "\u001b[0;31m---------------------------------------------------------------------------\u001b[0m",
            "\u001b[0;31mNameError\u001b[0m                                 Traceback (most recent call last)",
            "\u001b[0;32m<ipython-input-8-9e06c1b8f0c0>\u001b[0m in \u001b[0;36m<module>\u001b[0;34m()\u001b[0m\n\u001b[1;32m      1\u001b[0m \u001b[0;31m# 6. 道別\u001b[0m\u001b[0;34m\u001b[0m\u001b[0;34m\u001b[0m\u001b[0;34m\u001b[0m\u001b[0m\n\u001b[1;32m      2\u001b[0m \u001b[0mprint\u001b[0m\u001b[0;34m(\u001b[0m\u001b[0;34m\"我喜歡跟你聊天，現在有點累了，改天再聊吧！！\"\u001b[0m\u001b[0;34m)\u001b[0m\u001b[0;34m\u001b[0m\u001b[0;34m\u001b[0m\u001b[0m\n\u001b[0;32m----> 3\u001b[0;31m \u001b[0mprint\u001b[0m\u001b[0;34m(\u001b[0m\u001b[0;34mf\"再見{name}\"\u001b[0m\u001b[0;34m)\u001b[0m\u001b[0;34m\u001b[0m\u001b[0;34m\u001b[0m\u001b[0m\n\u001b[0m",
            "\u001b[0;31mNameError\u001b[0m: name 'name' is not defined"
          ]
        }
      ]
    },
    {
      "cell_type": "markdown",
      "metadata": {
        "id": "9Q8fpQMqzxpo"
      },
      "source": [
        "## 期末報告"
      ]
    },
    {
      "cell_type": "markdown",
      "metadata": {
        "id": "HK237KSVzxpo"
      },
      "source": [
        "### 組長(學號姓名):李思琪\n",
        "\n"
      ]
    },
    {
      "cell_type": "markdown",
      "metadata": {
        "id": "KWxJzylwzxpp"
      },
      "source": [
        "### 組員(學號姓名):\n",
        "楊曉林\n",
        "楊怡萱\n",
        "陳萱樺\n",
        "\n"
      ]
    },
    {
      "cell_type": "markdown",
      "metadata": {
        "id": "HeIKxXHtzxpq"
      },
      "source": [
        "### 題目:"
      ]
    },
    {
      "cell_type": "markdown",
      "metadata": {
        "id": "xiyRzZBzzxpq"
      },
      "source": [
        "### 百字腳本\n",
        "\n"
      ]
    }
  ]
}