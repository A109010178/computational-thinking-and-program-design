{
  "nbformat": 4,
  "nbformat_minor": 0,
  "metadata": {
    "colab": {
      "name": "YEUNGHIULAM_WEEK4_PRACTICEASSIGNMENT.ipynb",
      "provenance": [],
      "authorship_tag": "ABX9TyM4QLcwvhFAqPHanuPLSwJt",
      "include_colab_link": true
    },
    "kernelspec": {
      "name": "python3",
      "display_name": "Python 3"
    }
  },
  "cells": [
    {
      "cell_type": "markdown",
      "metadata": {
        "id": "view-in-github",
        "colab_type": "text"
      },
      "source": [
        "<a href=\"https://colab.research.google.com/github/A109010178/computational-thinking-and-program-design/blob/main/YEUNGHIULAM_WEEK4_PRACTICEASSIGNMENT.ipynb\" target=\"_parent\"><img src=\"https://colab.research.google.com/assets/colab-badge.svg\" alt=\"Open In Colab\"/></a>"
      ]
    },
    {
      "cell_type": "markdown",
      "metadata": {
        "id": "d0RzAMcTV_Y8"
      },
      "source": [
        "#lesson practise\r\n",
        "\r\n",
        "```\r\n",
        "# 此內容會顯示為程式碼\r\n",
        "```\r\n",
        "\r\n"
      ]
    },
    {
      "cell_type": "markdown",
      "metadata": {
        "id": "Ct_GHfUiWLl3"
      },
      "source": [
        "****"
      ]
    },
    {
      "cell_type": "markdown",
      "metadata": {
        "id": "JN3pTVlBW1Hx"
      },
      "source": [
        "(1)隨堂練習為各單元重點摘要，(2)課後練習則為從一則新聞報導，提出你對新聞系（OO系）學生為什麼要學「運算思維與程式設計」的見解。（告訴我新聞連結，以及你的觀點即可。）\r\n"
      ]
    },
    {
      "cell_type": "markdown",
      "metadata": {
        "id": "nnBHTqJkXDwh"
      },
      "source": [
        "#after-class practise\r\n"
      ]
    },
    {
      "cell_type": "markdown",
      "metadata": {
        "id": "wIeXAbPoXKF_"
      },
      "source": [
        "(https://www.gvm.com.tw/article/77911?utm_campaign=daily&utm_content=GV_post&utm_medium=social&utm_source=facebook&fbclid=IwAR3lh-YUxJLN5LadIueByKT9L514cddInqCytG7cKBLvEPb7DdbcT7lsCTs)"
      ]
    },
    {
      "cell_type": "markdown",
      "metadata": {
        "id": "4YdgUlPoXsGy"
      },
      "source": [
        "# Only writting coding is not enough for new AI generation. Kowning how to run a company and its systems and the law, could write a good model for finding the most suitable data. Combine with critical thinking which well-trained by jouralism, great and helpful coding would be produced."
      ]
    }
  ]
}